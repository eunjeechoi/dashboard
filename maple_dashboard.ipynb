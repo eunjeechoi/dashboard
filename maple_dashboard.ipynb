{
  "cells": [
    {
      "cell_type": "code",
      "execution_count": 3,
      "metadata": {
        "colab": {
          "base_uri": "https://localhost:8080/"
        },
        "id": "KU9A5sHX7_NT",
        "outputId": "ad1e97d1-4dbf-4f06-a730-535b45844005"
      },
      "outputs": [
        {
          "name": "stdout",
          "output_type": "stream",
          "text": [
            "Requirement already satisfied: maplestory-openapi in /usr/local/lib/python3.11/dist-packages (2.13.0)\n",
            "Requirement already satisfied: requests in /usr/local/lib/python3.11/dist-packages (from maplestory-openapi) (2.32.3)\n",
            "Requirement already satisfied: pydantic>=2.5.3 in /usr/local/lib/python3.11/dist-packages (from maplestory-openapi) (2.11.3)\n",
            "Requirement already satisfied: annotated-types>=0.6.0 in /usr/local/lib/python3.11/dist-packages (from pydantic>=2.5.3->maplestory-openapi) (0.7.0)\n",
            "Requirement already satisfied: pydantic-core==2.33.1 in /usr/local/lib/python3.11/dist-packages (from pydantic>=2.5.3->maplestory-openapi) (2.33.1)\n",
            "Requirement already satisfied: typing-extensions>=4.12.2 in /usr/local/lib/python3.11/dist-packages (from pydantic>=2.5.3->maplestory-openapi) (4.13.2)\n",
            "Requirement already satisfied: typing-inspection>=0.4.0 in /usr/local/lib/python3.11/dist-packages (from pydantic>=2.5.3->maplestory-openapi) (0.4.0)\n",
            "Requirement already satisfied: charset-normalizer<4,>=2 in /usr/local/lib/python3.11/dist-packages (from requests->maplestory-openapi) (3.4.1)\n",
            "Requirement already satisfied: idna<4,>=2.5 in /usr/local/lib/python3.11/dist-packages (from requests->maplestory-openapi) (3.10)\n",
            "Requirement already satisfied: urllib3<3,>=1.21.1 in /usr/local/lib/python3.11/dist-packages (from requests->maplestory-openapi) (2.3.0)\n",
            "Requirement already satisfied: certifi>=2017.4.17 in /usr/local/lib/python3.11/dist-packages (from requests->maplestory-openapi) (2025.1.31)\n"
          ]
        }
      ],
      "source": [
        "pip install maplestory-openapi"
      ]
    },
    {
      "cell_type": "code",
      "execution_count": 4,
      "metadata": {
        "id": "SS4zy_Y6-jRQ"
      },
      "outputs": [],
      "source": [
        "import requests\n",
        "\n",
        "\n",
        "API_KEY = \"\" # api key\n",
        "character_name = \"\"\n",
        "world_name = \"레드\"\n",
        "date = \"2025-04-22\"\n",
        "\n",
        "headers = {\n",
        "    \"x-nxopen-api-key\": API_KEY\n",
        "}\n",
        "\n",
        "def get_ocid(character_name):\n",
        "    url = f\"https://open.api.nexon.com/maplestory/v1/id?character_name={character_name}\"\n",
        "    response = requests.get(url, headers=headers)\n",
        "    return response.json()[\"ocid\"]\n",
        "\n",
        "\n",
        "def get_character_basic(ocid):\n",
        "    url = f\"https://open.api.nexon.com/maplestory/v1/character/basic?ocid={ocid}&date={date}\"\n",
        "    return requests.get(url, headers=headers).json()\n",
        "\n",
        "\n",
        "def get_equipment(ocid):\n",
        "    url = f\"https://open.api.nexon.com/maplestory/v1/character/item-equipment?ocid={ocid}&date={date}\"\n",
        "    return requests.get(url, headers=headers).json()\n",
        "\n",
        "\n",
        "def get_ability(ocid):\n",
        "    url = f\"https://open.api.nexon.com/maplestory/v1/character/ability?ocid={ocid}&date={date}\"\n",
        "    return requests.get(url, headers=headers).json()\n",
        "\n",
        "\n",
        "def get_union(ocid):\n",
        "    url = f\"https://open.api.nexon.com/maplestory/v1/user/union?ocid={ocid}&date={date}\"\n",
        "    return requests.get(url, headers=headers).json()\n",
        "\n",
        "\n",
        "ocid = get_ocid(character_name)\n",
        "basic = get_character_basic(ocid)\n",
        "equip = get_equipment(ocid)\n",
        "ability = get_ability(ocid)\n",
        "union = get_union(ocid)\n"
      ]
    },
    {
      "cell_type": "code",
      "execution_count": 5,
      "metadata": {
        "colab": {
          "base_uri": "https://localhost:8080/"
        },
        "id": "Qp-ew7q6-jTe",
        "outputId": "e7763122-d1d5-432a-b95e-181770fabaec"
      },
      "outputs": [
        {
          "name": "stdout",
          "output_type": "stream",
          "text": [
            "OCID: 5c494afadb4b5b63f74f39f2d8253573\n"
          ]
        }
      ],
      "source": [
        "ocid = get_ocid(\"\") # character name\n",
        "print(\"OCID:\", ocid)\n"
      ]
    },
    {
      "cell_type": "code",
      "execution_count": 6,
      "metadata": {
        "colab": {
          "base_uri": "https://localhost:8080/"
        },
        "id": "hvwovn3w-jYv",
        "outputId": "7c2a54a3-d30e-4b86-d158-3ed47bb8feee"
      },
      "outputs": [
        {
          "name": "stdout",
          "output_type": "stream",
          "text": [
            "[기본 정보]\n",
            "닉네임: 은지쨩쨩짱, 직업: 소울마스터, 레벨: 282, 길드: 파이\n",
            "[장비 목록]\n",
            "       item_name item_equipment_part starforce\n",
            "0     앱솔랩스 나이트헬름                  모자        17\n",
            "1      트와일라이트 마크                얼굴장식        17\n",
            "2         블랙빈 마크                 눈장식        18\n",
            "3       에스텔라 이어링                 귀고리        17\n",
            "4     이글아이 워리어아머                  상의        17\n",
            "5     트릭스터 워리어팬츠                  하의        17\n",
            "6     앱솔랩스 나이트슈즈                  신발        17\n",
            "7    앱솔랩스 나이트글러브                  장갑        17\n",
            "8    앱솔랩스 나이트케이프                  망토        17\n",
            "9        에레브의 광휘                  보석         0\n",
            "10  아케인셰이드 투핸드소드                 두손검        17\n",
            "11  글로리온 링 : 슈프림                  반지         0\n",
            "12       컨티뉴어스 링                  반지         0\n",
            "13  테네브리스 원정대 반지                  반지         0\n",
            "14  여명의 가디언 엔젤 링                  반지        17\n",
            "15    데이브레이크 펜던트                 펜던트        17\n",
            "16         빅토리아컵                  훈장         0\n",
            "17     골든 클로버 벨트                  벨트        17\n",
            "18  아케인셰이드 나이트숄더                어깨장식        17\n",
            "19        핑크빛 성배              포켓 아이템         0\n",
            "20        페어리 하트               기계 심장         8\n",
            "21   크리스탈 웬투스 뱃지                  뱃지         0\n",
            "22   골드 시그너스 엠블렘                 엠블렘         0\n",
            "23     도미네이터 펜던트                 펜던트        17\n",
            "[DEBUG] ability_info 응답 구조 확인:\n",
            "- (레전드리) 보스 몬스터 공격 시 데미지 19% 증가\n",
            "- (유니크) 상태 이상에 걸린 대상 공격 시 데미지 8% 증가\n",
            "- (유니크) 크리티컬 확률 20% 증가\n",
            "[어빌리티 라인]\n",
            "['보스 몬스터 공격 시 데미지 19% 증가', '상태 이상에 걸린 대상 공격 시 데미지 8% 증가', '크리티컬 확률 20% 증가']\n",
            "[유니온 정보]\n",
            "유니온 레벨: 8973\n",
            "유니온 등급: 그랜드 마스터 유니온 2\n",
            "아티팩트 레벨: 43\n",
            "아티팩트 포인트: 8750\n"
          ]
        }
      ],
      "source": [
        "import pandas as pd\n",
        "\n",
        "\n",
        "basic = get_character_basic(ocid)\n",
        "print(\"[기본 정보]\")\n",
        "print(f\"닉네임: {basic['character_name']}, 직업: {basic['character_class']}, 레벨: {basic['character_level']}, 길드: {basic.get('character_guild_name')}\")\n",
        "\n",
        "\n",
        "equip = get_equipment(ocid)\n",
        "equip_df = pd.DataFrame(equip[\"item_equipment\"])\n",
        "print(\"[장비 목록]\")\n",
        "print(equip_df[[\"item_name\", \"item_equipment_part\", \"starforce\"]])\n",
        "\n",
        "\n",
        "ability = get_ability(ocid)\n",
        "print(\"[DEBUG] ability_info 응답 구조 확인:\")\n",
        "for entry in ability[\"ability_info\"]:\n",
        "    print(f\"- ({entry['ability_grade']}) {entry['ability_value']}\")\n",
        "\n",
        "\n",
        "ability_lines = [entry[\"ability_value\"] for entry in ability[\"ability_info\"]]\n",
        "print(\"[어빌리티 라인]\")\n",
        "print(ability_lines)\n",
        "\n",
        "keywords = [\"보스\", \"STR\", \"크리티컬\"]\n",
        "\n",
        "\n",
        "union = get_union(ocid)\n",
        "\n",
        "print(\"[유니온 정보]\")\n",
        "print(f\"유니온 레벨: {union.get('union_level')}\")\n",
        "print(f\"유니온 등급: {union.get('union_grade')}\")\n",
        "print(f\"아티팩트 레벨: {union.get('union_artifact_level')}\")\n",
        "print(f\"아티팩트 포인트: {union.get('union_artifact_point')}\")\n"
      ]
    },
    {
      "cell_type": "code",
      "execution_count": 7,
      "metadata": {
        "colab": {
          "base_uri": "https://localhost:8080/"
        },
        "id": "wJ4evqTaQrxf",
        "outputId": "abd4c9b8-9299-4528-9a92-1a4df5a69db4"
      },
      "outputs": [
        {
          "name": "stdout",
          "output_type": "stream",
          "text": [
            "Collecting streamlit\n",
            "  Downloading streamlit-1.44.1-py3-none-any.whl.metadata (8.9 kB)\n",
            "Requirement already satisfied: altair<6,>=4.0 in /usr/local/lib/python3.11/dist-packages (from streamlit) (5.5.0)\n",
            "Requirement already satisfied: blinker<2,>=1.0.0 in /usr/local/lib/python3.11/dist-packages (from streamlit) (1.9.0)\n",
            "Requirement already satisfied: cachetools<6,>=4.0 in /usr/local/lib/python3.11/dist-packages (from streamlit) (5.5.2)\n",
            "Requirement already satisfied: click<9,>=7.0 in /usr/local/lib/python3.11/dist-packages (from streamlit) (8.1.8)\n",
            "Requirement already satisfied: numpy<3,>=1.23 in /usr/local/lib/python3.11/dist-packages (from streamlit) (2.0.2)\n",
            "Requirement already satisfied: packaging<25,>=20 in /usr/local/lib/python3.11/dist-packages (from streamlit) (24.2)\n",
            "Requirement already satisfied: pandas<3,>=1.4.0 in /usr/local/lib/python3.11/dist-packages (from streamlit) (2.2.2)\n",
            "Requirement already satisfied: pillow<12,>=7.1.0 in /usr/local/lib/python3.11/dist-packages (from streamlit) (11.1.0)\n",
            "Requirement already satisfied: protobuf<6,>=3.20 in /usr/local/lib/python3.11/dist-packages (from streamlit) (5.29.4)\n",
            "Requirement already satisfied: pyarrow>=7.0 in /usr/local/lib/python3.11/dist-packages (from streamlit) (18.1.0)\n",
            "Requirement already satisfied: requests<3,>=2.27 in /usr/local/lib/python3.11/dist-packages (from streamlit) (2.32.3)\n",
            "Requirement already satisfied: tenacity<10,>=8.1.0 in /usr/local/lib/python3.11/dist-packages (from streamlit) (9.1.2)\n",
            "Requirement already satisfied: toml<2,>=0.10.1 in /usr/local/lib/python3.11/dist-packages (from streamlit) (0.10.2)\n",
            "Requirement already satisfied: typing-extensions<5,>=4.4.0 in /usr/local/lib/python3.11/dist-packages (from streamlit) (4.13.2)\n",
            "Collecting watchdog<7,>=2.1.5 (from streamlit)\n",
            "  Downloading watchdog-6.0.0-py3-none-manylinux2014_x86_64.whl.metadata (44 kB)\n",
            "\u001b[2K     \u001b[90m━━━━━━━━━━━━━━━━━━━━━━━━━━━━━━━━━━━━━━━━\u001b[0m \u001b[32m44.3/44.3 kB\u001b[0m \u001b[31m3.7 MB/s\u001b[0m eta \u001b[36m0:00:00\u001b[0m\n",
            "\u001b[?25hRequirement already satisfied: gitpython!=3.1.19,<4,>=3.0.7 in /usr/local/lib/python3.11/dist-packages (from streamlit) (3.1.44)\n",
            "Collecting pydeck<1,>=0.8.0b4 (from streamlit)\n",
            "  Downloading pydeck-0.9.1-py2.py3-none-any.whl.metadata (4.1 kB)\n",
            "Requirement already satisfied: tornado<7,>=6.0.3 in /usr/local/lib/python3.11/dist-packages (from streamlit) (6.4.2)\n",
            "Requirement already satisfied: jinja2 in /usr/local/lib/python3.11/dist-packages (from altair<6,>=4.0->streamlit) (3.1.6)\n",
            "Requirement already satisfied: jsonschema>=3.0 in /usr/local/lib/python3.11/dist-packages (from altair<6,>=4.0->streamlit) (4.23.0)\n",
            "Requirement already satisfied: narwhals>=1.14.2 in /usr/local/lib/python3.11/dist-packages (from altair<6,>=4.0->streamlit) (1.35.0)\n",
            "Requirement already satisfied: gitdb<5,>=4.0.1 in /usr/local/lib/python3.11/dist-packages (from gitpython!=3.1.19,<4,>=3.0.7->streamlit) (4.0.12)\n",
            "Requirement already satisfied: python-dateutil>=2.8.2 in /usr/local/lib/python3.11/dist-packages (from pandas<3,>=1.4.0->streamlit) (2.8.2)\n",
            "Requirement already satisfied: pytz>=2020.1 in /usr/local/lib/python3.11/dist-packages (from pandas<3,>=1.4.0->streamlit) (2025.2)\n",
            "Requirement already satisfied: tzdata>=2022.7 in /usr/local/lib/python3.11/dist-packages (from pandas<3,>=1.4.0->streamlit) (2025.2)\n",
            "Requirement already satisfied: charset-normalizer<4,>=2 in /usr/local/lib/python3.11/dist-packages (from requests<3,>=2.27->streamlit) (3.4.1)\n",
            "Requirement already satisfied: idna<4,>=2.5 in /usr/local/lib/python3.11/dist-packages (from requests<3,>=2.27->streamlit) (3.10)\n",
            "Requirement already satisfied: urllib3<3,>=1.21.1 in /usr/local/lib/python3.11/dist-packages (from requests<3,>=2.27->streamlit) (2.3.0)\n",
            "Requirement already satisfied: certifi>=2017.4.17 in /usr/local/lib/python3.11/dist-packages (from requests<3,>=2.27->streamlit) (2025.1.31)\n",
            "Requirement already satisfied: smmap<6,>=3.0.1 in /usr/local/lib/python3.11/dist-packages (from gitdb<5,>=4.0.1->gitpython!=3.1.19,<4,>=3.0.7->streamlit) (5.0.2)\n",
            "Requirement already satisfied: MarkupSafe>=2.0 in /usr/local/lib/python3.11/dist-packages (from jinja2->altair<6,>=4.0->streamlit) (3.0.2)\n",
            "Requirement already satisfied: attrs>=22.2.0 in /usr/local/lib/python3.11/dist-packages (from jsonschema>=3.0->altair<6,>=4.0->streamlit) (25.3.0)\n",
            "Requirement already satisfied: jsonschema-specifications>=2023.03.6 in /usr/local/lib/python3.11/dist-packages (from jsonschema>=3.0->altair<6,>=4.0->streamlit) (2024.10.1)\n",
            "Requirement already satisfied: referencing>=0.28.4 in /usr/local/lib/python3.11/dist-packages (from jsonschema>=3.0->altair<6,>=4.0->streamlit) (0.36.2)\n",
            "Requirement already satisfied: rpds-py>=0.7.1 in /usr/local/lib/python3.11/dist-packages (from jsonschema>=3.0->altair<6,>=4.0->streamlit) (0.24.0)\n",
            "Requirement already satisfied: six>=1.5 in /usr/local/lib/python3.11/dist-packages (from python-dateutil>=2.8.2->pandas<3,>=1.4.0->streamlit) (1.17.0)\n",
            "Downloading streamlit-1.44.1-py3-none-any.whl (9.8 MB)\n",
            "\u001b[2K   \u001b[90m━━━━━━━━━━━━━━━━━━━━━━━━━━━━━━━━━━━━━━━━\u001b[0m \u001b[32m9.8/9.8 MB\u001b[0m \u001b[31m46.0 MB/s\u001b[0m eta \u001b[36m0:00:00\u001b[0m\n",
            "\u001b[?25hDownloading pydeck-0.9.1-py2.py3-none-any.whl (6.9 MB)\n",
            "\u001b[2K   \u001b[90m━━━━━━━━━━━━━━━━━━━━━━━━━━━━━━━━━━━━━━━━\u001b[0m \u001b[32m6.9/6.9 MB\u001b[0m \u001b[31m40.2 MB/s\u001b[0m eta \u001b[36m0:00:00\u001b[0m\n",
            "\u001b[?25hDownloading watchdog-6.0.0-py3-none-manylinux2014_x86_64.whl (79 kB)\n",
            "\u001b[2K   \u001b[90m━━━━━━━━━━━━━━━━━━━━━━━━━━━━━━━━━━━━━━━━\u001b[0m \u001b[32m79.1/79.1 kB\u001b[0m \u001b[31m7.9 MB/s\u001b[0m eta \u001b[36m0:00:00\u001b[0m\n",
            "\u001b[?25hInstalling collected packages: watchdog, pydeck, streamlit\n",
            "Successfully installed pydeck-0.9.1 streamlit-1.44.1 watchdog-6.0.0\n"
          ]
        }
      ],
      "source": [
        "pip install streamlit\n"
      ]
    },
    {
      "cell_type": "code",
      "execution_count": 8,
      "metadata": {
        "colab": {
          "base_uri": "https://localhost:8080/"
        },
        "id": "RsMutNJfe1x9",
        "outputId": "c6cc8343-e8f8-4938-9203-42fed89d87ab"
      },
      "outputs": [
        {
          "name": "stdout",
          "output_type": "stream",
          "text": [
            "W: Skipping acquire of configured file 'main/source/Sources' as repository 'https://r2u.stat.illinois.edu/ubuntu jammy InRelease' does not seem to provide it (sources.list entry misspelt?)\n",
            "Reading package lists... Done\n",
            "Building dependency tree... Done\n",
            "Reading state information... Done\n",
            "The following NEW packages will be installed:\n",
            "  fonts-nanum\n",
            "0 upgraded, 1 newly installed, 0 to remove and 35 not upgraded.\n",
            "Need to get 10.3 MB of archives.\n",
            "After this operation, 34.1 MB of additional disk space will be used.\n",
            "Get:1 http://archive.ubuntu.com/ubuntu jammy/universe amd64 fonts-nanum all 20200506-1 [10.3 MB]\n",
            "Fetched 10.3 MB in 2s (6,002 kB/s)\n",
            "Selecting previously unselected package fonts-nanum.\n",
            "(Reading database ... 126333 files and directories currently installed.)\n",
            "Preparing to unpack .../fonts-nanum_20200506-1_all.deb ...\n",
            "Unpacking fonts-nanum (20200506-1) ...\n",
            "Setting up fonts-nanum (20200506-1) ...\n",
            "Processing triggers for fontconfig (2.13.1-4.2ubuntu5) ...\n",
            "/usr/share/fonts: caching, new cache contents: 0 fonts, 1 dirs\n",
            "/usr/share/fonts/truetype: caching, new cache contents: 0 fonts, 3 dirs\n",
            "/usr/share/fonts/truetype/humor-sans: caching, new cache contents: 1 fonts, 0 dirs\n",
            "/usr/share/fonts/truetype/liberation: caching, new cache contents: 16 fonts, 0 dirs\n",
            "/usr/share/fonts/truetype/nanum: caching, new cache contents: 12 fonts, 0 dirs\n",
            "/usr/local/share/fonts: caching, new cache contents: 0 fonts, 0 dirs\n",
            "/root/.local/share/fonts: skipping, no such directory\n",
            "/root/.fonts: skipping, no such directory\n",
            "/usr/share/fonts/truetype: skipping, looped directory detected\n",
            "/usr/share/fonts/truetype/humor-sans: skipping, looped directory detected\n",
            "/usr/share/fonts/truetype/liberation: skipping, looped directory detected\n",
            "/usr/share/fonts/truetype/nanum: skipping, looped directory detected\n",
            "/var/cache/fontconfig: cleaning cache directory\n",
            "/root/.cache/fontconfig: not cleaning non-existent cache directory\n",
            "/root/.fontconfig: not cleaning non-existent cache directory\n",
            "fc-cache: succeeded\n"
          ]
        }
      ],
      "source": [
        "!apt-get update -qq\n",
        "!apt-get install -y fonts-nanum\n",
        "!fc-cache -fv\n",
        "!rm ~/.cache/matplotlib -rf\n"
      ]
    },
    {
      "cell_type": "code",
      "execution_count": 9,
      "metadata": {
        "colab": {
          "base_uri": "https://localhost:8080/"
        },
        "id": "B3ZVGPUfnKP_",
        "outputId": "29205a19-aea5-4521-e661-2115a48078ad"
      },
      "outputs": [
        {
          "name": "stdout",
          "output_type": "stream",
          "text": [
            "/usr/share/fonts/truetype/liberation/LiberationMono-BoldItalic.ttf\n",
            "/usr/share/fonts/truetype/liberation/LiberationSans-Italic.ttf\n",
            "/usr/share/fonts/truetype/liberation/LiberationSerif-Bold.ttf\n",
            "/usr/share/fonts/truetype/liberation/LiberationMono-Bold.ttf\n",
            "/usr/share/fonts/truetype/liberation/LiberationSerif-Regular.ttf\n",
            "/usr/share/fonts/truetype/liberation/LiberationSansNarrow-Bold.ttf\n",
            "/usr/share/fonts/truetype/liberation/LiberationSerif-BoldItalic.ttf\n",
            "/usr/share/fonts/truetype/nanum/NanumBarunGothic.ttf\n",
            "/usr/share/fonts/truetype/nanum/NanumGothicCodingBold.ttf\n",
            "/usr/share/fonts/truetype/liberation/LiberationSans-Bold.ttf\n"
          ]
        }
      ],
      "source": [
        "import matplotlib.font_manager as fm\n",
        "\n",
        "for f in fm.findSystemFonts(fontpaths=None)[:10]:\n",
        "    print(f)\n"
      ]
    },
    {
      "cell_type": "code",
      "execution_count": 10,
      "metadata": {
        "colab": {
          "base_uri": "https://localhost:8080/"
        },
        "id": "3QN6RuEvnWff",
        "outputId": "f0bb9702-9ae0-4189-e852-caf33c16cfa9"
      },
      "outputs": [
        {
          "name": "stdout",
          "output_type": "stream",
          "text": [
            "폰트: NanumGothic\n"
          ]
        }
      ],
      "source": [
        "import matplotlib.pyplot as plt\n",
        "import matplotlib.font_manager as fm\n",
        "import matplotlib as mpl\n",
        "import os\n",
        "\n",
        "font_path = '/usr/share/fonts/truetype/nanum/NanumGothic.ttf'\n",
        "\n",
        "fm.fontManager.addfont(font_path)\n",
        "nanum_font = fm.FontProperties(fname=font_path).get_name()\n",
        "\n",
        "mpl.rcParams['font.family'] = nanum_font\n",
        "plt.rcParams['axes.unicode_minus'] = False\n",
        "\n",
        "print(f\"폰트: {nanum_font}\")\n"
      ]
    },
    {
      "cell_type": "code",
      "execution_count": 10,
      "metadata": {
        "id": "Ww-47Py_njax"
      },
      "outputs": [],
      "source": []
    },
    {
      "cell_type": "code",
      "execution_count": 12,
      "metadata": {
        "colab": {
          "base_uri": "https://localhost:8080/"
        },
        "id": "NDpBGk24aruo",
        "outputId": "05360dcc-d30c-42bd-ad54-f6c2610d5172"
      },
      "outputs": [
        {
          "name": "stdout",
          "output_type": "stream",
          "text": [
            "Requirement already satisfied: streamlit in /usr/local/lib/python3.11/dist-packages (1.44.1)\n",
            "Requirement already satisfied: plotly in /usr/local/lib/python3.11/dist-packages (5.24.1)\n",
            "Requirement already satisfied: pandas in /usr/local/lib/python3.11/dist-packages (2.2.2)\n",
            "Requirement already satisfied: altair<6,>=4.0 in /usr/local/lib/python3.11/dist-packages (from streamlit) (5.5.0)\n",
            "Requirement already satisfied: blinker<2,>=1.0.0 in /usr/local/lib/python3.11/dist-packages (from streamlit) (1.9.0)\n",
            "Requirement already satisfied: cachetools<6,>=4.0 in /usr/local/lib/python3.11/dist-packages (from streamlit) (5.5.2)\n",
            "Requirement already satisfied: click<9,>=7.0 in /usr/local/lib/python3.11/dist-packages (from streamlit) (8.1.8)\n",
            "Requirement already satisfied: numpy<3,>=1.23 in /usr/local/lib/python3.11/dist-packages (from streamlit) (2.0.2)\n",
            "Requirement already satisfied: packaging<25,>=20 in /usr/local/lib/python3.11/dist-packages (from streamlit) (24.2)\n",
            "Requirement already satisfied: pillow<12,>=7.1.0 in /usr/local/lib/python3.11/dist-packages (from streamlit) (11.1.0)\n",
            "Requirement already satisfied: protobuf<6,>=3.20 in /usr/local/lib/python3.11/dist-packages (from streamlit) (5.29.4)\n",
            "Requirement already satisfied: pyarrow>=7.0 in /usr/local/lib/python3.11/dist-packages (from streamlit) (18.1.0)\n",
            "Requirement already satisfied: requests<3,>=2.27 in /usr/local/lib/python3.11/dist-packages (from streamlit) (2.32.3)\n",
            "Requirement already satisfied: tenacity<10,>=8.1.0 in /usr/local/lib/python3.11/dist-packages (from streamlit) (9.1.2)\n",
            "Requirement already satisfied: toml<2,>=0.10.1 in /usr/local/lib/python3.11/dist-packages (from streamlit) (0.10.2)\n",
            "Requirement already satisfied: typing-extensions<5,>=4.4.0 in /usr/local/lib/python3.11/dist-packages (from streamlit) (4.13.2)\n",
            "Requirement already satisfied: watchdog<7,>=2.1.5 in /usr/local/lib/python3.11/dist-packages (from streamlit) (6.0.0)\n",
            "Requirement already satisfied: gitpython!=3.1.19,<4,>=3.0.7 in /usr/local/lib/python3.11/dist-packages (from streamlit) (3.1.44)\n",
            "Requirement already satisfied: pydeck<1,>=0.8.0b4 in /usr/local/lib/python3.11/dist-packages (from streamlit) (0.9.1)\n",
            "Requirement already satisfied: tornado<7,>=6.0.3 in /usr/local/lib/python3.11/dist-packages (from streamlit) (6.4.2)\n",
            "Requirement already satisfied: python-dateutil>=2.8.2 in /usr/local/lib/python3.11/dist-packages (from pandas) (2.8.2)\n",
            "Requirement already satisfied: pytz>=2020.1 in /usr/local/lib/python3.11/dist-packages (from pandas) (2025.2)\n",
            "Requirement already satisfied: tzdata>=2022.7 in /usr/local/lib/python3.11/dist-packages (from pandas) (2025.2)\n",
            "Requirement already satisfied: jinja2 in /usr/local/lib/python3.11/dist-packages (from altair<6,>=4.0->streamlit) (3.1.6)\n",
            "Requirement already satisfied: jsonschema>=3.0 in /usr/local/lib/python3.11/dist-packages (from altair<6,>=4.0->streamlit) (4.23.0)\n",
            "Requirement already satisfied: narwhals>=1.14.2 in /usr/local/lib/python3.11/dist-packages (from altair<6,>=4.0->streamlit) (1.35.0)\n",
            "Requirement already satisfied: gitdb<5,>=4.0.1 in /usr/local/lib/python3.11/dist-packages (from gitpython!=3.1.19,<4,>=3.0.7->streamlit) (4.0.12)\n",
            "Requirement already satisfied: six>=1.5 in /usr/local/lib/python3.11/dist-packages (from python-dateutil>=2.8.2->pandas) (1.17.0)\n",
            "Requirement already satisfied: charset-normalizer<4,>=2 in /usr/local/lib/python3.11/dist-packages (from requests<3,>=2.27->streamlit) (3.4.1)\n",
            "Requirement already satisfied: idna<4,>=2.5 in /usr/local/lib/python3.11/dist-packages (from requests<3,>=2.27->streamlit) (3.10)\n",
            "Requirement already satisfied: urllib3<3,>=1.21.1 in /usr/local/lib/python3.11/dist-packages (from requests<3,>=2.27->streamlit) (2.3.0)\n",
            "Requirement already satisfied: certifi>=2017.4.17 in /usr/local/lib/python3.11/dist-packages (from requests<3,>=2.27->streamlit) (2025.1.31)\n",
            "Requirement already satisfied: smmap<6,>=3.0.1 in /usr/local/lib/python3.11/dist-packages (from gitdb<5,>=4.0.1->gitpython!=3.1.19,<4,>=3.0.7->streamlit) (5.0.2)\n",
            "Requirement already satisfied: MarkupSafe>=2.0 in /usr/local/lib/python3.11/dist-packages (from jinja2->altair<6,>=4.0->streamlit) (3.0.2)\n",
            "Requirement already satisfied: attrs>=22.2.0 in /usr/local/lib/python3.11/dist-packages (from jsonschema>=3.0->altair<6,>=4.0->streamlit) (25.3.0)\n",
            "Requirement already satisfied: jsonschema-specifications>=2023.03.6 in /usr/local/lib/python3.11/dist-packages (from jsonschema>=3.0->altair<6,>=4.0->streamlit) (2024.10.1)\n",
            "Requirement already satisfied: referencing>=0.28.4 in /usr/local/lib/python3.11/dist-packages (from jsonschema>=3.0->altair<6,>=4.0->streamlit) (0.36.2)\n",
            "Requirement already satisfied: rpds-py>=0.7.1 in /usr/local/lib/python3.11/dist-packages (from jsonschema>=3.0->altair<6,>=4.0->streamlit) (0.24.0)\n"
          ]
        }
      ],
      "source": [
        "pip install streamlit plotly pandas\n"
      ]
    },
    {
      "cell_type": "code",
      "execution_count": null,
      "metadata": {
        "colab": {
          "base_uri": "https://localhost:8080/"
        },
        "id": "RKPUUSGfy8qQ",
        "outputId": "181b815e-893b-4c8a-f00e-154cb12ac731"
      },
      "outputs": [
        {
          "name": "stdout",
          "output_type": "stream",
          "text": [
            "Overwriting app.py\n"
          ]
        }
      ],
      "source": [
        "%%writefile app.py\n",
        "\n",
        "import streamlit as st\n",
        "import pandas as pd\n",
        "import plotly.graph_objs as go\n",
        "import matplotlib.font_manager as fm\n",
        "import matplotlib as mpl\n",
        "import numpy as np\n",
        "import requests\n",
        "\n",
        "font_path = \"/usr/share/fonts/truetype/nanum/NanumGothic.ttf\"\n",
        "fontprop = fm.FontProperties(fname=font_path)\n",
        "mpl.rcParams[\"font.family\"] = fontprop.get_name()\n",
        "\n",
        "API_KEY = \"\"\n",
        "HEADERS = {\"x-nxopen-api-key\": API_KEY}\n",
        "CHARACTER_NAME = \"\"\n",
        "\n",
        "\n",
        "def get_api(endpoint):\n",
        "    return requests.get(endpoint, headers=HEADERS).json()\n",
        "\n",
        "\n",
        "ocid = get_api(f\"https://open.api.nexon.com/maplestory/v1/id?character_name={CHARACTER_NAME}\").get(\"ocid\")\n",
        "basic = get_api(f\"https://open.api.nexon.com/maplestory/v1/character/basic?ocid={ocid}\")\n",
        "equip = get_api(f\"https://open.api.nexon.com/maplestory/v1/character/item-equipment?ocid={ocid}\")\n",
        "ability = get_api(f\"https://open.api.nexon.com/maplestory/v1/character/ability?ocid={ocid}\")\n",
        "union = get_api(f\"https://open.api.nexon.com/maplestory/v1/user/union?ocid={ocid}\")\n",
        "stat = get_api(f\"https://open.api.nexon.com/maplestory/v1/character/stat?ocid={ocid}\")\n",
        "hyper_stat = get_api(f\"https://open.api.nexon.com/maplestory/v1/character/hyper-stat?ocid={ocid}\")\n",
        "propensity = get_api(f\"https://open.api.nexon.com/maplestory/v1/character/propensity?ocid={ocid}\")\n",
        "popularity = get_api(f\"https://open.api.nexon.com/maplestory/v1/character/popularity?ocid={ocid}\")\n",
        "notices = get_api(\"https://open.api.nexon.com/maplestory/v1/notice\")\n",
        "updates = get_api(\"https://open.api.nexon.com/maplestory/v1/notice-update\")\n",
        "events = get_api(\"https://open.api.nexon.com/maplestory/v1/notice-event\")\n",
        "cashshop = get_api(\"https://open.api.nexon.com/maplestory/v1/notice-cashshop\")\n",
        "union = get_api(f\"https://open.api.nexon.com/maplestory/v1/user/union?ocid={ocid}\")\n",
        "union_raider = get_api(f\"https://open.api.nexon.com/maplestory/v1/user/union-raider?ocid={ocid}\")\n",
        "union_artifact = get_api(f\"https://open.api.nexon.com/maplestory/v1/user/union-artifact?ocid={ocid}\")\n",
        "union_champion = get_api(f\"https://open.api.nexon.com/maplestory/v1/user/union-champion?ocid={ocid}\")\n",
        "\n",
        "\n",
        "st.set_page_config(page_title=\"은지쨩짱짱 대시보드\", layout=\"wide\")\n",
        "st.title(\"👩‍💻 은지쨩짱짱 캐릭터 대시보드\")\n",
        "st.caption(\"메이플스토리 실시간 캐릭터 데이터 조회 및 시각화\")\n",
        "\n",
        "info_tab, equip_tab, stat_tab, notice_tab, ranking_tab, symbol_tab = st.tabs([\n",
        "    \"👤 캐릭터 정보\",\n",
        "    \"🛡️ 장비 정보\",\n",
        "    \"📈 스탯 & 성향\",\n",
        "    \"📰 공지사항\",\n",
        "    \"🏆 랭킹\",\n",
        "    \"🎀 심볼/세트/뷰티/펫\"\n",
        "])\n",
        "\n",
        "\n",
        "with symbol_tab:\n",
        "    st.subheader(\"🌟 심볼 정보\")\n",
        "    symbol = get_api(f\"https://open.api.nexon.com/maplestory/v1/character/symbol-equipment?ocid={ocid}\")\n",
        "    if symbol.get(\"symbol\"):\n",
        "        symbol_df = pd.DataFrame(symbol[\"symbol\"])\n",
        "        st.dataframe(symbol_df[[\"symbol_name\", \"symbol_force\", \"symbol_level\", \"symbol_str\", \"symbol_dex\", \"symbol_int\", \"symbol_luk\"]])\n",
        "    else:\n",
        "        st.info(\"심볼 정보가 없습니다.\")\n",
        "\n",
        "    st.divider()\n",
        "    st.subheader(\"🧩 세트 효과 정보\")\n",
        "    set_effect = get_api(f\"https://open.api.nexon.com/maplestory/v1/character/set-effect?ocid={ocid}\")\n",
        "    if set_effect.get(\"set_effect\"):\n",
        "        set_df = pd.DataFrame([{\n",
        "            \"세트 이름\": s[\"set_name\"],\n",
        "            \"보유 세트 수\": s[\"total_set_count\"],\n",
        "            \"발동 효과\": \", \".join([f\"{e['set_count']}세트: {e['set_option']}\" for e in s[\"set_effect_info\"]])\n",
        "        } for s in set_effect[\"set_effect\"]])\n",
        "        st.dataframe(set_df)\n",
        "    else:\n",
        "        st.info(\"세트 효과 정보가 없습니다.\")\n",
        "\n",
        "    st.divider()\n",
        "    st.subheader(\"💇‍♀️ 뷰티 정보 (헤어/성형/피부)\")\n",
        "    beauty = get_api(f\"https://open.api.nexon.com/maplestory/v1/character/beauty-equipment?ocid={ocid}\")\n",
        "    if beauty.get(\"character_hair\"):\n",
        "        st.markdown(f\"**헤어:** {beauty['character_hair'].get('hair_name', '정보 없음')}\")\n",
        "    if beauty.get(\"character_face\"):\n",
        "        st.markdown(f\"**성형:** {beauty['character_face'].get('face_name', '정보 없음')}\")\n",
        "    if beauty.get(\"character_skin\"):\n",
        "        st.markdown(f\"**피부:** {beauty['character_skin'].get('skin_name', '정보 없음')}\")\n",
        "    else:\n",
        "        st.info(\"뷰티 정보가 없습니다.\")\n",
        "\n",
        "    st.divider()\n",
        "    st.subheader(\"🤖 안드로이드 정보\")\n",
        "    android = get_api(f\"https://open.api.nexon.com/maplestory/v1/character/android-equipment?ocid={ocid}\")\n",
        "    if android.get(\"android_name\"):\n",
        "        st.markdown(f\"**이름:** {android['android_name']}  \\n**닉네임:** {android['android_nickname']}\")\n",
        "        st.image(android.get(\"android_icon\", \"\"), width=100)\n",
        "    else:\n",
        "        st.info(\"안드로이드 정보가 없습니다.\")\n",
        "\n",
        "    st.divider()\n",
        "    st.subheader(\"🐶 펫 정보\")\n",
        "    pet = get_api(f\"https://open.api.nexon.com/maplestory/v1/character/pet-equipment?ocid={ocid}\")\n",
        "    if pet.get(\"pet_1_name\"):\n",
        "        for i in range(1, 4):\n",
        "            if pet.get(f\"pet_{i}_name\"):\n",
        "                st.markdown(f\"**펫 {i}: {pet[f'pet_{i}_name']} ({pet[f'pet_{i}_nickname']})**\")\n",
        "                st.image(pet.get(f\"pet_{i}_icon\", \"\"), width=80)\n",
        "    else:\n",
        "        st.info(\"펫 정보가 없습니다.\")\n",
        "\n",
        "\n",
        "\n",
        "with ranking_tab:\n",
        "    st.subheader(\"🏆 캐릭터 랭킹 정보\")\n",
        "\n",
        "    from datetime import datetime, timedelta\n",
        "    date = (datetime.now() - timedelta(days=1)).strftime('%Y-%m-%d')\n",
        "    world = \"레드\"\n",
        "\n",
        "    def fetch_ranking_data(title, url, params):\n",
        "        try:\n",
        "            res = requests.get(url, headers=HEADERS, params=params)\n",
        "            if res.status_code == 200 and \"ranking\" in res.json():\n",
        "                df = pd.DataFrame(res.json()[\"ranking\"])\n",
        "                st.markdown(f\"### {title}\")\n",
        "                st.dataframe(df.head(10))\n",
        "            else:\n",
        "                st.warning(f\"{title} 데이터를 불러올 수 없습니다.\")\n",
        "        except Exception as e:\n",
        "            st.error(f\"{title} 요청 실패: {e}\")\n",
        "\n",
        "    fetch_ranking_data(\"유니온 랭킹\", \"https://open.api.nexon.com/maplestory/v1/ranking/union\",\n",
        "        {\"date\": date, \"world_name\": world, \"page\": 1})\n",
        "\n",
        "    fetch_ranking_data(\"무릉도장 랭킹\", \"https://open.api.nexon.com/maplestory/v1/ranking/dojang\",\n",
        "        {\"date\": date, \"world_name\": world, \"difficulty\": 1, \"page\": 1})\n",
        "\n",
        "    fetch_ranking_data(\"더 시드 랭킹\", \"https://open.api.nexon.com/maplestory/v1/ranking/theseed\",\n",
        "        {\"date\": date, \"world_name\": world, \"page\": 1})\n",
        "\n",
        "    fetch_ranking_data(\"업적 랭킹\", \"https://open.api.nexon.com/maplestory/v1/ranking/achievement\",\n",
        "        {\"date\": date, \"world_name\": world, \"page\": 1})\n",
        "\n",
        "\n",
        "def get_api(endpoint):\n",
        "    try:\n",
        "        response = requests.get(endpoint, headers=HEADERS)\n",
        "        response.raise_for_status()\n",
        "        return response.json()\n",
        "    except requests.exceptions.RequestException as e:\n",
        "        st.error(f\"API 요청 실패: {e}\")\n",
        "        return {}\n",
        "\n",
        "\n",
        "with info_tab:\n",
        "    col1, col2 = st.columns([1, 3])\n",
        "    with col1:\n",
        "        st.image(basic[\"character_image\"], width=150)\n",
        "    with col2:\n",
        "        st.markdown(f\"### {basic['character_name']} ({basic['character_class']})\")\n",
        "        st.markdown(f\"**레벨:** {basic['character_level']}  \\n**길드:** {basic.get('character_guild_name', '없음')}  \\n**인기도:** {popularity.get('popularity', 0)}\")\n",
        "\n",
        "    st.divider()\n",
        "    st.subheader(\"🧠 어빌리티\")\n",
        "    for a in ability[\"ability_info\"]:\n",
        "        st.markdown(f\"- {a['ability_value']}\")\n",
        "\n",
        "    st.divider()\n",
        "    st.subheader(\"🏰 유니온 기본 정보\")\n",
        "    st.markdown(f\"- 유니온 레벨: {union['union_level']} ({union['union_grade']})\")\n",
        "    st.markdown(f\"- 아티팩트: Lv.{union['union_artifact_level']} / {union['union_artifact_point']}pt\")\n",
        "\n",
        "    st.divider()\n",
        "    st.subheader(\"🗡️ 유니온 공격대 정보\")\n",
        "    if union_raider.get(\"union_raider_stat\"):\n",
        "        raider_df = pd.DataFrame(union_raider[\"union_raider_stat\"], columns=[\"effect\"])\n",
        "        st.dataframe(raider_df)\n",
        "    else:\n",
        "        st.info(\"등록된 유니온 공격대 정보가 없습니다.\")\n",
        "\n",
        "    st.divider()\n",
        "    st.subheader(\"🧿 유니온 아티팩트 정보\")\n",
        "    if union_artifact.get(\"union_artifact_effect\"):\n",
        "        artifact_df = pd.DataFrame(union_artifact[\"union_artifact_effect\"])\n",
        "\n",
        "        available_columns = [col for col in [\"name\", \"level\", \"value\"] if col in artifact_df.columns]\n",
        "        st.dataframe(artifact_df[available_columns])\n",
        "    else:\n",
        "        st.info(\"등록된 유니온 아티팩트 정보가 없습니다.\")\n",
        "\n",
        "    st.subheader(\"🧙‍♂️ 유니온 챔피언 정보\")\n",
        "    if union_champion.get(\"union_champion\"):\n",
        "        champion_df = pd.DataFrame(union_champion[\"union_champion\"])\n",
        "        st.dataframe(champion_df[[\"champion_slot\", \"champion_name\", \"champion_class\", \"champion_grade\"]])\n",
        "    else:\n",
        "        st.info(\"등록된 유니온 챔피언 정보가 없습니다.\")\n",
        "\n",
        "\n",
        "\n",
        "with equip_tab:\n",
        "    equip_tabs = st.tabs([\"🧰 일반 장비\", \"💎 캐시 장비\"])\n",
        "\n",
        "    with equip_tabs[0]:\n",
        "        equip_df = pd.DataFrame(equip[\"item_equipment\"])\n",
        "        equip_df[\"starforce\"] = pd.to_numeric(equip_df[\"starforce\"], errors=\"coerce\").fillna(0)\n",
        "\n",
        "        equip_df[\"item_equipment_part\"] = equip_df[\"item_equipment_part\"].replace(\"보석\", \"보조무기\")\n",
        "        exclude_parts = [\"훈장\", \"포켓 아이템\", \"뱃지\", \"엠블렘\", \"보조무기\"]\n",
        "        filtered_df = equip_df[~equip_df[\"item_equipment_part\"].isin(exclude_parts)]\n",
        "\n",
        "        pendant_mask = filtered_df[\"item_equipment_part\"].str.contains(\"펜던트\")\n",
        "        pendant_indices = filtered_df[pendant_mask].index.tolist()\n",
        "        if len(pendant_indices) >= 2:\n",
        "            filtered_df.at[pendant_indices[0], \"item_equipment_part\"] = \"펜던트1\"\n",
        "            filtered_df.at[pendant_indices[1], \"item_equipment_part\"] = \"펜던트2\"\n",
        "\n",
        "        st.dataframe(filtered_df[[\"item_equipment_part\", \"item_name\", \"starforce\"]])\n",
        "\n",
        "        fig = go.Figure()\n",
        "        fig.add_trace(go.Bar(\n",
        "            x=filtered_df[\"item_equipment_part\"],\n",
        "            y=filtered_df[\"starforce\"],\n",
        "            text=filtered_df[\"starforce\"],\n",
        "            textposition='auto',\n",
        "            name=\"Starforce\"\n",
        "        ))\n",
        "        fig.update_layout(\n",
        "            title=\"장비 부위별 스타포스\",\n",
        "            xaxis_title=\"장비 부위\",\n",
        "            yaxis_title=\"Starforce (★)\",\n",
        "            height=400\n",
        "        )\n",
        "        st.plotly_chart(fig, use_container_width=True)\n",
        "\n",
        "    with equip_tabs[1]:\n",
        "      cash_equip = get_api(f\"https://open.api.nexon.com/maplestory/v1/character/cashitem-equipment?ocid={ocid}\")\n",
        "\n",
        "      cash_tabs = st.tabs([\"Preset 1\", \"Preset 2\", \"Preset 3\", \"Base\"])\n",
        "\n",
        "      preset_keys = [\n",
        "          \"cash_item_equipment_preset_1\",\n",
        "          \"cash_item_equipment_preset_2\",\n",
        "          \"cash_item_equipment_preset_3\",\n",
        "          \"cash_item_equipment_base\"\n",
        "      ]\n",
        "\n",
        "      for tab, key in zip(cash_tabs, preset_keys):\n",
        "          with tab:\n",
        "              items = cash_equip.get(key, [])\n",
        "              if items:\n",
        "                  for item in items:\n",
        "                      if isinstance(item, dict):\n",
        "                          col1, col2, col3 = st.columns([1, 2, 4])\n",
        "\n",
        "                          with col1:\n",
        "                              st.image(item.get(\"cash_item_icon\", \"\"), width=40)\n",
        "\n",
        "                          with col2:\n",
        "                              st.markdown(f\"<div style='font-size:14px; font-weight:bold;'>{item.get('cash_item_equipment_part', '')}</div>\", unsafe_allow_html=True)\n",
        "\n",
        "                          with col3:\n",
        "                              st.markdown(f\"<div style='font-size:13px; color:gray;'>{item.get('cash_item_name', '')}</div>\", unsafe_allow_html=True)\n",
        "                      else:\n",
        "                          st.warning(f\"예상과 다른 데이터: {item}\")\n",
        "              else:\n",
        "                  st.warning(f\"{key}에 등록된 캐시장비가 없습니다.\")\n",
        "\n",
        "\n",
        "\n",
        "\n",
        "with stat_tab:\n",
        "    st.subheader(\"📄 전체 스탯\")\n",
        "    stat_df = pd.DataFrame(stat[\"final_stat\"])\n",
        "    stat_df[\"stat_value\"] = pd.to_numeric(stat_df[\"stat_value\"], errors=\"coerce\")\n",
        "    st.dataframe(stat_df)\n",
        "\n",
        "    st.subheader(\"📊 주요 스탯 레이더 차트\")\n",
        "    radar_stats = [\"STR\", \"DEX\", \"INT\", \"LUK\", \"HP\", \"MP\"]\n",
        "    radar_df = stat_df[stat_df[\"stat_name\"].isin(radar_stats)]\n",
        "    radar_values = radar_df[\"stat_value\"].tolist()\n",
        "    radar_values += radar_values[:1]\n",
        "\n",
        "    radar = go.Figure()\n",
        "    radar.add_trace(go.Scatterpolar(r=radar_values, theta=radar_stats + [radar_stats[0]], fill='toself'))\n",
        "    radar.update_layout(polar=dict(radialaxis=dict(visible=True)), showlegend=False, height=450)\n",
        "    st.plotly_chart(radar, use_container_width=True)\n",
        "\n",
        "    st.divider()\n",
        "    st.subheader(\"📈 하이퍼스탯\")\n",
        "    preset = f\"hyper_stat_preset_{hyper_stat.get('use_preset_no', '1')}\"\n",
        "    if preset in hyper_stat:\n",
        "        hyper_df = pd.DataFrame(hyper_stat[preset])\n",
        "        st.dataframe(hyper_df[[\"stat_type\", \"stat_level\", \"stat_increase\"]])\n",
        "    else:\n",
        "        st.warning(\"하이퍼 스탭 정보가 없습니다.\")\n",
        "\n",
        "    st.divider()\n",
        "    st.subheader(\"🎯 성향 정보\")\n",
        "    prop_df = pd.DataFrame([propensity])\n",
        "    st.dataframe(prop_df.T.rename(columns={0: \"수치\"}))\n",
        "\n",
        "\n",
        "with notice_tab:\n",
        "    tab1, tab2, tab3, tab4 = st.tabs([\"공지사항\", \"업데이트\", \"이벤트\", \"캐시샵\"])\n",
        "\n",
        "    with tab1:\n",
        "        for n in notices.get(\"notice\", []):\n",
        "            st.markdown(f\"- [{n['title']}]({n['url']})\")\n",
        "\n",
        "    with tab2:\n",
        "        for u in updates.get(\"update_notice\", []):\n",
        "            st.markdown(f\"- [{u['title']}]({u['url']})\")\n",
        "\n",
        "    with tab3:\n",
        "        for e in events.get(\"event_notice\", []):\n",
        "            st.markdown(f\"- [{e['title']}]({e['url']})  \\n⏰ {e.get('date_event_start', '')} ~ {e.get('date_event_end', '')}\")\n",
        "\n",
        "    with tab4:\n",
        "        for c in cashshop.get(\"cashshop_notice\", []):\n",
        "            st.markdown(f\"- [{c['title']}]({c['url']})  \\n🏍️ {c.get('date_sale_start', '')} ~ {c.get('date_sale_end', '')}\")\n"
      ]
    },
    {
      "cell_type": "code",
      "execution_count": 14,
      "metadata": {
        "colab": {
          "base_uri": "https://localhost:8080/"
        },
        "id": "yNU3iPIBaa5u",
        "outputId": "d1c8f63b-321f-4619-94c2-018e7d379f2c"
      },
      "outputs": [
        {
          "name": "stdout",
          "output_type": "stream",
          "text": [
            "Collecting pyngrok\n",
            "  Downloading pyngrok-7.2.5-py3-none-any.whl.metadata (8.9 kB)\n",
            "Requirement already satisfied: PyYAML>=5.1 in /usr/local/lib/python3.11/dist-packages (from pyngrok) (6.0.2)\n",
            "Downloading pyngrok-7.2.5-py3-none-any.whl (23 kB)\n",
            "Installing collected packages: pyngrok\n",
            "Successfully installed pyngrok-7.2.5\n"
          ]
        }
      ],
      "source": [
        "pip install pyngrok"
      ]
    },
    {
      "cell_type": "code",
      "execution_count": null,
      "metadata": {
        "colab": {
          "base_uri": "https://localhost:8080/"
        },
        "id": "4E4o74pBa87o",
        "outputId": "2fe66742-3dc7-4c05-9bb2-3628ca65834b"
      },
      "outputs": [
        {
          "name": "stdout",
          "output_type": "stream",
          "text": [
            "Authtoken saved to configuration file: /root/.config/ngrok/ngrok.yml\n"
          ]
        }
      ],
      "source": [
        "!ngrok config add-authtoken  #token\n"
      ]
    },
    {
      "cell_type": "code",
      "execution_count": 16,
      "metadata": {
        "id": "J0DFx0Q7eGSr"
      },
      "outputs": [],
      "source": [
        "from pyngrok import ngrok, conf\n",
        "\n",
        "ngrok.kill()"
      ]
    },
    {
      "cell_type": "code",
      "execution_count": 17,
      "metadata": {
        "colab": {
          "base_uri": "https://localhost:8080/"
        },
        "id": "oktVdQSaOEYj",
        "outputId": "cb89ca60-e6b7-4bd0-884a-1f53725bbf69"
      },
      "outputs": [
        {
          "name": "stdout",
          "output_type": "stream",
          "text": [
            "접속 주소: NgrokTunnel: \"https://9663-34-125-60-150.ngrok-free.app\" -> \"http://localhost:8501\"\n"
          ]
        }
      ],
      "source": [
        "from pyngrok import ngrok\n",
        "public_url = ngrok.connect(8501)\n",
        "print(f\"접속 주소: {public_url}\")\n",
        "!streamlit run app.py &>/dev/null &\n"
      ]
    },
    {
      "cell_type": "code",
      "execution_count": 17,
      "metadata": {
        "id": "RCn4z-nU_IQl"
      },
      "outputs": [],
      "source": []
    },
    {
      "cell_type": "code",
      "execution_count": 17,
      "metadata": {
        "id": "eFndhFzjNqve"
      },
      "outputs": [],
      "source": []
    }
  ],
  "metadata": {
    "accelerator": "GPU",
    "colab": {
      "gpuType": "T4",
      "provenance": []
    },
    "kernelspec": {
      "display_name": "Python 3",
      "name": "python3"
    },
    "language_info": {
      "name": "python"
    }
  },
  "nbformat": 4,
  "nbformat_minor": 0
}
